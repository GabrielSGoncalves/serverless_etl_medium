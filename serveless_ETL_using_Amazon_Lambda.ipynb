{
 "cells": [
  {
   "cell_type": "markdown",
   "metadata": {},
   "source": [
    "## Development of functions to use on Amazon Lambda for the article \"Serverless ETL with Amazon Lambda\""
   ]
  },
  {
   "cell_type": "code",
   "execution_count": 2,
   "metadata": {},
   "outputs": [],
   "source": [
    "import pandas as pd\n",
    "import boto3"
   ]
  },
  {
   "cell_type": "markdown",
   "metadata": {},
   "source": [
    "### 1.1 Exploring Datasets to use on the article\n",
    "The idea is to choose a dataset that can be use as "
   ]
  },
  {
   "cell_type": "code",
   "execution_count": 12,
   "metadata": {},
   "outputs": [],
   "source": [
    "df_sp500 = pd.read_csv('sandp500/all_stocks_5yr.csv', index_col='date')\n"
   ]
  },
  {
   "cell_type": "code",
   "execution_count": 13,
   "metadata": {},
   "outputs": [
    {
     "name": "stdout",
     "output_type": "stream",
     "text": [
      "<class 'pandas.core.frame.DataFrame'>\n",
      "Index: 619040 entries, 2013-02-08 to 2018-02-07\n",
      "Data columns (total 6 columns):\n",
      "open      619029 non-null float64\n",
      "high      619032 non-null float64\n",
      "low       619032 non-null float64\n",
      "close     619040 non-null float64\n",
      "volume    619040 non-null int64\n",
      "Name      619040 non-null object\n",
      "dtypes: float64(4), int64(1), object(1)\n",
      "memory usage: 33.1+ MB\n"
     ]
    }
   ],
   "source": [
    "df_sp500.info()"
   ]
  },
  {
   "cell_type": "code",
   "execution_count": 15,
   "metadata": {},
   "outputs": [
    {
     "data": {
      "text/html": [
       "<div>\n",
       "<style scoped>\n",
       "    .dataframe tbody tr th:only-of-type {\n",
       "        vertical-align: middle;\n",
       "    }\n",
       "\n",
       "    .dataframe tbody tr th {\n",
       "        vertical-align: top;\n",
       "    }\n",
       "\n",
       "    .dataframe thead th {\n",
       "        text-align: right;\n",
       "    }\n",
       "</style>\n",
       "<table border=\"1\" class=\"dataframe\">\n",
       "  <thead>\n",
       "    <tr style=\"text-align: right;\">\n",
       "      <th></th>\n",
       "      <th>open</th>\n",
       "      <th>high</th>\n",
       "      <th>low</th>\n",
       "      <th>close</th>\n",
       "      <th>volume</th>\n",
       "      <th>Name</th>\n",
       "    </tr>\n",
       "    <tr>\n",
       "      <th>date</th>\n",
       "      <th></th>\n",
       "      <th></th>\n",
       "      <th></th>\n",
       "      <th></th>\n",
       "      <th></th>\n",
       "      <th></th>\n",
       "    </tr>\n",
       "  </thead>\n",
       "  <tbody>\n",
       "    <tr>\n",
       "      <th>2013-02-08</th>\n",
       "      <td>15.0700</td>\n",
       "      <td>15.1200</td>\n",
       "      <td>14.6300</td>\n",
       "      <td>14.7500</td>\n",
       "      <td>8407500</td>\n",
       "      <td>AAL</td>\n",
       "    </tr>\n",
       "    <tr>\n",
       "      <th>2013-02-08</th>\n",
       "      <td>67.7142</td>\n",
       "      <td>68.4014</td>\n",
       "      <td>66.8928</td>\n",
       "      <td>67.8542</td>\n",
       "      <td>158168416</td>\n",
       "      <td>AAPL</td>\n",
       "    </tr>\n",
       "    <tr>\n",
       "      <th>2013-02-08</th>\n",
       "      <td>78.3400</td>\n",
       "      <td>79.7200</td>\n",
       "      <td>78.0100</td>\n",
       "      <td>78.9000</td>\n",
       "      <td>1298137</td>\n",
       "      <td>AAP</td>\n",
       "    </tr>\n",
       "    <tr>\n",
       "      <th>2013-02-08</th>\n",
       "      <td>36.3700</td>\n",
       "      <td>36.4200</td>\n",
       "      <td>35.8250</td>\n",
       "      <td>36.2500</td>\n",
       "      <td>13858795</td>\n",
       "      <td>ABBV</td>\n",
       "    </tr>\n",
       "    <tr>\n",
       "      <th>2013-02-08</th>\n",
       "      <td>46.5200</td>\n",
       "      <td>46.8950</td>\n",
       "      <td>46.4600</td>\n",
       "      <td>46.8900</td>\n",
       "      <td>1232802</td>\n",
       "      <td>ABC</td>\n",
       "    </tr>\n",
       "    <tr>\n",
       "      <th>...</th>\n",
       "      <td>...</td>\n",
       "      <td>...</td>\n",
       "      <td>...</td>\n",
       "      <td>...</td>\n",
       "      <td>...</td>\n",
       "      <td>...</td>\n",
       "    </tr>\n",
       "    <tr>\n",
       "      <th>2013-02-08</th>\n",
       "      <td>27.0100</td>\n",
       "      <td>27.6400</td>\n",
       "      <td>27.0100</td>\n",
       "      <td>27.0900</td>\n",
       "      <td>1206284</td>\n",
       "      <td>XYL</td>\n",
       "    </tr>\n",
       "    <tr>\n",
       "      <th>2013-02-08</th>\n",
       "      <td>63.7000</td>\n",
       "      <td>65.4900</td>\n",
       "      <td>63.6600</td>\n",
       "      <td>65.3000</td>\n",
       "      <td>7190051</td>\n",
       "      <td>YUM</td>\n",
       "    </tr>\n",
       "    <tr>\n",
       "      <th>2013-02-08</th>\n",
       "      <td>75.0200</td>\n",
       "      <td>75.9900</td>\n",
       "      <td>74.9600</td>\n",
       "      <td>75.8500</td>\n",
       "      <td>911179</td>\n",
       "      <td>ZBH</td>\n",
       "    </tr>\n",
       "    <tr>\n",
       "      <th>2013-02-08</th>\n",
       "      <td>24.0300</td>\n",
       "      <td>24.2100</td>\n",
       "      <td>23.9500</td>\n",
       "      <td>24.1400</td>\n",
       "      <td>2104483</td>\n",
       "      <td>ZION</td>\n",
       "    </tr>\n",
       "    <tr>\n",
       "      <th>2013-02-08</th>\n",
       "      <td>32.3100</td>\n",
       "      <td>33.4800</td>\n",
       "      <td>32.3000</td>\n",
       "      <td>33.0500</td>\n",
       "      <td>2599232</td>\n",
       "      <td>ZTS</td>\n",
       "    </tr>\n",
       "  </tbody>\n",
       "</table>\n",
       "<p>476 rows × 6 columns</p>\n",
       "</div>"
      ],
      "text/plain": [
       "               open     high      low    close     volume  Name\n",
       "date                                                           \n",
       "2013-02-08  15.0700  15.1200  14.6300  14.7500    8407500   AAL\n",
       "2013-02-08  67.7142  68.4014  66.8928  67.8542  158168416  AAPL\n",
       "2013-02-08  78.3400  79.7200  78.0100  78.9000    1298137   AAP\n",
       "2013-02-08  36.3700  36.4200  35.8250  36.2500   13858795  ABBV\n",
       "2013-02-08  46.5200  46.8950  46.4600  46.8900    1232802   ABC\n",
       "...             ...      ...      ...      ...        ...   ...\n",
       "2013-02-08  27.0100  27.6400  27.0100  27.0900    1206284   XYL\n",
       "2013-02-08  63.7000  65.4900  63.6600  65.3000    7190051   YUM\n",
       "2013-02-08  75.0200  75.9900  74.9600  75.8500     911179   ZBH\n",
       "2013-02-08  24.0300  24.2100  23.9500  24.1400    2104483  ZION\n",
       "2013-02-08  32.3100  33.4800  32.3000  33.0500    2599232   ZTS\n",
       "\n",
       "[476 rows x 6 columns]"
      ]
     },
     "execution_count": 15,
     "metadata": {},
     "output_type": "execute_result"
    }
   ],
   "source": [
    "df_sp500.loc['2013-02-08']"
   ]
  },
  {
   "cell_type": "code",
   "execution_count": null,
   "metadata": {},
   "outputs": [],
   "source": []
  },
  {
   "cell_type": "code",
   "execution_count": null,
   "metadata": {},
   "outputs": [],
   "source": []
  }
 ],
 "metadata": {
  "kernelspec": {
   "display_name": "serverless_etl",
   "language": "python",
   "name": "serverless_etl"
  },
  "language_info": {
   "codemirror_mode": {
    "name": "ipython",
    "version": 3
   },
   "file_extension": ".py",
   "mimetype": "text/x-python",
   "name": "python",
   "nbconvert_exporter": "python",
   "pygments_lexer": "ipython3",
   "version": "3.7.4"
  }
 },
 "nbformat": 4,
 "nbformat_minor": 4
}
